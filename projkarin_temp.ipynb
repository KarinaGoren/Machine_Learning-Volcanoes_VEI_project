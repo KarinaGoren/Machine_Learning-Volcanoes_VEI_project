{
 "cells": [
  {
   "cell_type": "markdown",
   "id": "d6a5404d",
   "metadata": {},
   "source": [
    "# from crawling:"
   ]
  },
  {
   "cell_type": "markdown",
   "id": "8e8d8e12",
   "metadata": {},
   "source": [
    "# Test"
   ]
  },
  {
   "cell_type": "code",
   "execution_count": null,
   "id": "36f35d76",
   "metadata": {},
   "outputs": [],
   "source": [
    "url2=['https://volcano.si.edu/volcano.cfm?vn=283001', 'https://volcano.si.edu/volcano.cfm?vn=312090', \"https://volcano.si.edu/volcano.cfm?vn=231072\", \"https://volcano.si.edu/volcano.cfm?vn=261140\" , \"https://volcano.si.edu/volcano.cfm?vn=257030\"]\n",
    "vei = []\n",
    "start_date = []\n",
    "end_date = []\n",
    "currently_erupting = []\n",
    "last_erupt_duration = []\n",
    "eruption_status = []\n",
    "all_p = []\n",
    "temp2 = []\n",
    "i = 1\n",
    "for url1 in url2:\n",
    "    response1 = requests.get(url1)\n",
    "    soup1 = BeautifulSoup(response1.content, \"html.parser\")\n",
    "    \n",
    "    if response1.ok:\n",
    "        all_p = soup1.find_all(class_ ='EruptionAccordionHeader')\n",
    "        print(i)\n",
    "        #allow = ['span']\n",
    "        for v in all_p:\n",
    "            text = v.text.split()\n",
    "            print(text)\n",
    "            #vei.append(v.text[3])\n",
    "            #print(vei)\n",
    "            \n",
    "        #temp = soup1.find_all(\"div\",{\"class\" : ['eruption-accordion']})\n",
    "        #print(temp)\n",
    "        #temp2 = [t.text for t in temp.find(\"span\")]\n",
    "        #print(temp2.prettify())\n",
    "        #temp2.append(temp.find('span').text)\n",
    "        #text_ele = [t.text.split(',') for t in soup1.find_all(text = True) if t.parent.name in allow]\n",
    "        #print(text_ele)\n",
    "        print(\"=================\")\n",
    "        i = i + 1"
   ]
  },
  {
   "cell_type": "code",
   "execution_count": null,
   "id": "b5692701",
   "metadata": {},
   "outputs": [],
   "source": []
  }
 ],
 "metadata": {
  "kernelspec": {
   "display_name": "Python 3 (ipykernel)",
   "language": "python",
   "name": "python3"
  },
  "language_info": {
   "codemirror_mode": {
    "name": "ipython",
    "version": 3
   },
   "file_extension": ".py",
   "mimetype": "text/x-python",
   "name": "python",
   "nbconvert_exporter": "python",
   "pygments_lexer": "ipython3",
   "version": "3.9.13"
  }
 },
 "nbformat": 4,
 "nbformat_minor": 5
}
