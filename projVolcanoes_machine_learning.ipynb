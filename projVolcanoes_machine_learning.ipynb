{
 "cells": [
  {
   "cell_type": "markdown",
   "id": "a919bcc8",
   "metadata": {},
   "source": [
    "# Machine Learning:"
   ]
  },
  {
   "cell_type": "markdown",
   "id": "9c46fa11",
   "metadata": {},
   "source": [
    "##### In this notebook we will continue to explore information regarding global volcanoes with eruptions. \n",
    "##### We will do the following:\n",
    "* Train classification models and predict the test examples\n",
    "* Run evaluation for the classification models"
   ]
  },
  {
   "cell_type": "markdown",
   "id": "224f88ea",
   "metadata": {},
   "source": [
    "### Import modules:"
   ]
  },
  {
   "cell_type": "markdown",
   "id": "025b9064",
   "metadata": {},
   "source": [
    "##### This step is necessary in order to use external packages.¶\n",
    "##### We will be using pandas, numpy, sklearn, train_test_split, matplotlib, seaborn and more."
   ]
  },
  {
   "cell_type": "code",
   "execution_count": 100,
   "id": "cbd479d8",
   "metadata": {},
   "outputs": [],
   "source": [
    "import os                    \n",
    "import numpy as np\n",
    "import pandas as pd\n",
    "from sklearn.model_selection import train_test_split\n",
    "from sklearn.model_selection import cross_val_score\n",
    "from sklearn.model_selection import GridSearchCV\n",
    "import sklearn\n",
    "from sklearn import neighbors, tree, ensemble, naive_bayes, svm\n",
    "from sklearn.neighbors import KNeighborsClassifier\n",
    "from sklearn import tree\n",
    "from sklearn.ensemble import RandomForestClassifier\n",
    "from sklearn.naive_bayes import GaussianNB\n",
    "from sklearn.svm import SVC\n",
    "from sklearn.neural_network import MLPClassifier\n",
    "from sklearn.neural_network import MLPRegressor\n",
    "from sklearn import metrics\n",
    "from sklearn.metrics import accuracy_score, precision_score, recall_score, f1_score, confusion_matrix\n",
    "from sklearn.metrics import make_scorer\n",
    "from sklearn.linear_model import LogisticRegression\n",
    "from sklearn.preprocessing import StandardScaler\n",
    "import warnings\n",
    "warnings.filterwarnings(\"ignore\", category=FutureWarning)\n",
    "import matplotlib.pyplot as plt\n",
    "import seaborn as sns"
   ]
  },
  {
   "cell_type": "markdown",
   "id": "840dcf62",
   "metadata": {},
   "source": [
    "### Load volcano dataset:"
   ]
  },
  {
   "cell_type": "markdown",
   "id": "8198969f",
   "metadata": {},
   "source": [
    "##### The load_csv function loads a CSV file specified by file_name into a pandas DataFrame and returns it."
   ]
  },
  {
   "cell_type": "code",
   "execution_count": 3,
   "id": "f0290f37",
   "metadata": {},
   "outputs": [],
   "source": [
    "def load_csv(file_name):\n",
    "    df= pd.read_csv(file_name)\n",
    "    return df"
   ]
  },
  {
   "cell_type": "code",
   "execution_count": 8,
   "id": "d99ae308",
   "metadata": {},
   "outputs": [
    {
     "data": {
      "text/html": [
       "<div>\n",
       "<style scoped>\n",
       "    .dataframe tbody tr th:only-of-type {\n",
       "        vertical-align: middle;\n",
       "    }\n",
       "\n",
       "    .dataframe tbody tr th {\n",
       "        vertical-align: top;\n",
       "    }\n",
       "\n",
       "    .dataframe thead th {\n",
       "        text-align: right;\n",
       "    }\n",
       "</style>\n",
       "<table border=\"1\" class=\"dataframe\">\n",
       "  <thead>\n",
       "    <tr style=\"text-align: right;\">\n",
       "      <th></th>\n",
       "      <th>Volcano name</th>\n",
       "      <th>Volcano number</th>\n",
       "      <th>Volcano country</th>\n",
       "      <th>Volcano region</th>\n",
       "      <th>Volcano type</th>\n",
       "      <th>Summit elevation</th>\n",
       "      <th>VEI</th>\n",
       "      <th>Start date</th>\n",
       "      <th>Currently erupting (Y/N)</th>\n",
       "      <th>Latitude:</th>\n",
       "      <th>Longitude:</th>\n",
       "    </tr>\n",
       "  </thead>\n",
       "  <tbody>\n",
       "    <tr>\n",
       "      <th>0</th>\n",
       "      <td>Acatenango</td>\n",
       "      <td>507</td>\n",
       "      <td>Guatemala</td>\n",
       "      <td>Guatemala</td>\n",
       "      <td>14</td>\n",
       "      <td>3976</td>\n",
       "      <td>1</td>\n",
       "      <td>1972</td>\n",
       "      <td>0</td>\n",
       "      <td>14.501</td>\n",
       "      <td>-90.876</td>\n",
       "    </tr>\n",
       "    <tr>\n",
       "      <th>1</th>\n",
       "      <td>Acatenango</td>\n",
       "      <td>507</td>\n",
       "      <td>Guatemala</td>\n",
       "      <td>Guatemala</td>\n",
       "      <td>14</td>\n",
       "      <td>3976</td>\n",
       "      <td>2</td>\n",
       "      <td>1926</td>\n",
       "      <td>0</td>\n",
       "      <td>14.501</td>\n",
       "      <td>-90.876</td>\n",
       "    </tr>\n",
       "    <tr>\n",
       "      <th>2</th>\n",
       "      <td>Acatenango</td>\n",
       "      <td>507</td>\n",
       "      <td>Guatemala</td>\n",
       "      <td>Guatemala</td>\n",
       "      <td>14</td>\n",
       "      <td>3976</td>\n",
       "      <td>3</td>\n",
       "      <td>1924</td>\n",
       "      <td>0</td>\n",
       "      <td>14.501</td>\n",
       "      <td>-90.876</td>\n",
       "    </tr>\n",
       "    <tr>\n",
       "      <th>3</th>\n",
       "      <td>Adams</td>\n",
       "      <td>442</td>\n",
       "      <td>United States</td>\n",
       "      <td>Washington</td>\n",
       "      <td>14</td>\n",
       "      <td>3742</td>\n",
       "      <td>2</td>\n",
       "      <td>950</td>\n",
       "      <td>0</td>\n",
       "      <td>46.206</td>\n",
       "      <td>-121.490</td>\n",
       "    </tr>\n",
       "    <tr>\n",
       "      <th>4</th>\n",
       "      <td>Adams</td>\n",
       "      <td>442</td>\n",
       "      <td>United States</td>\n",
       "      <td>Washington</td>\n",
       "      <td>14</td>\n",
       "      <td>3742</td>\n",
       "      <td>2</td>\n",
       "      <td>200</td>\n",
       "      <td>0</td>\n",
       "      <td>46.206</td>\n",
       "      <td>-121.490</td>\n",
       "    </tr>\n",
       "    <tr>\n",
       "      <th>...</th>\n",
       "      <td>...</td>\n",
       "      <td>...</td>\n",
       "      <td>...</td>\n",
       "      <td>...</td>\n",
       "      <td>...</td>\n",
       "      <td>...</td>\n",
       "      <td>...</td>\n",
       "      <td>...</td>\n",
       "      <td>...</td>\n",
       "      <td>...</td>\n",
       "      <td>...</td>\n",
       "    </tr>\n",
       "    <tr>\n",
       "      <th>7362</th>\n",
       "      <td>Zitacuaro-Valle de Bravo</td>\n",
       "      <td>496</td>\n",
       "      <td>Mexico</td>\n",
       "      <td>Mexico</td>\n",
       "      <td>19</td>\n",
       "      <td>3500</td>\n",
       "      <td>0</td>\n",
       "      <td>-3050</td>\n",
       "      <td>0</td>\n",
       "      <td>19.400</td>\n",
       "      <td>-100.250</td>\n",
       "    </tr>\n",
       "    <tr>\n",
       "      <th>7363</th>\n",
       "      <td>Zubair Group</td>\n",
       "      <td>16</td>\n",
       "      <td>Yemen</td>\n",
       "      <td>Africa northeastern and Red Sea</td>\n",
       "      <td>13</td>\n",
       "      <td>191</td>\n",
       "      <td>2</td>\n",
       "      <td>2013</td>\n",
       "      <td>0</td>\n",
       "      <td>15.050</td>\n",
       "      <td>42.180</td>\n",
       "    </tr>\n",
       "    <tr>\n",
       "      <th>7364</th>\n",
       "      <td>Zubair Group</td>\n",
       "      <td>16</td>\n",
       "      <td>Yemen</td>\n",
       "      <td>Africa northeastern and Red Sea</td>\n",
       "      <td>13</td>\n",
       "      <td>191</td>\n",
       "      <td>2</td>\n",
       "      <td>2011</td>\n",
       "      <td>0</td>\n",
       "      <td>15.050</td>\n",
       "      <td>42.180</td>\n",
       "    </tr>\n",
       "    <tr>\n",
       "      <th>7365</th>\n",
       "      <td>Zubair Group</td>\n",
       "      <td>16</td>\n",
       "      <td>Yemen</td>\n",
       "      <td>Africa northeastern and Red Sea</td>\n",
       "      <td>13</td>\n",
       "      <td>191</td>\n",
       "      <td>2</td>\n",
       "      <td>1824</td>\n",
       "      <td>0</td>\n",
       "      <td>15.050</td>\n",
       "      <td>42.180</td>\n",
       "    </tr>\n",
       "    <tr>\n",
       "      <th>7366</th>\n",
       "      <td>Zuni-Bandera</td>\n",
       "      <td>462</td>\n",
       "      <td>United States</td>\n",
       "      <td>New Mexico</td>\n",
       "      <td>19</td>\n",
       "      <td>2550</td>\n",
       "      <td>0</td>\n",
       "      <td>-1170</td>\n",
       "      <td>0</td>\n",
       "      <td>34.800</td>\n",
       "      <td>-108.000</td>\n",
       "    </tr>\n",
       "  </tbody>\n",
       "</table>\n",
       "<p>7367 rows × 11 columns</p>\n",
       "</div>"
      ],
      "text/plain": [
       "                  Volcano name  Volcano number Volcano country  \\\n",
       "0                   Acatenango             507       Guatemala   \n",
       "1                   Acatenango             507       Guatemala   \n",
       "2                   Acatenango             507       Guatemala   \n",
       "3                        Adams             442   United States   \n",
       "4                        Adams             442   United States   \n",
       "...                        ...             ...             ...   \n",
       "7362  Zitacuaro-Valle de Bravo             496          Mexico   \n",
       "7363              Zubair Group              16           Yemen   \n",
       "7364              Zubair Group              16           Yemen   \n",
       "7365              Zubair Group              16           Yemen   \n",
       "7366              Zuni-Bandera             462   United States   \n",
       "\n",
       "                       Volcano region  Volcano type  Summit elevation  VEI  \\\n",
       "0                           Guatemala            14              3976    1   \n",
       "1                           Guatemala            14              3976    2   \n",
       "2                           Guatemala            14              3976    3   \n",
       "3                          Washington            14              3742    2   \n",
       "4                          Washington            14              3742    2   \n",
       "...                               ...           ...               ...  ...   \n",
       "7362                           Mexico            19              3500    0   \n",
       "7363  Africa northeastern and Red Sea            13               191    2   \n",
       "7364  Africa northeastern and Red Sea            13               191    2   \n",
       "7365  Africa northeastern and Red Sea            13               191    2   \n",
       "7366                       New Mexico            19              2550    0   \n",
       "\n",
       "      Start date  Currently erupting (Y/N)  Latitude:  Longitude:  \n",
       "0           1972                         0     14.501     -90.876  \n",
       "1           1926                         0     14.501     -90.876  \n",
       "2           1924                         0     14.501     -90.876  \n",
       "3            950                         0     46.206    -121.490  \n",
       "4            200                         0     46.206    -121.490  \n",
       "...          ...                       ...        ...         ...  \n",
       "7362       -3050                         0     19.400    -100.250  \n",
       "7363        2013                         0     15.050      42.180  \n",
       "7364        2011                         0     15.050      42.180  \n",
       "7365        1824                         0     15.050      42.180  \n",
       "7366       -1170                         0     34.800    -108.000  \n",
       "\n",
       "[7367 rows x 11 columns]"
      ]
     },
     "execution_count": 8,
     "metadata": {},
     "output_type": "execute_result"
    }
   ],
   "source": [
    "file_name = '.' + os.sep + 'volcano_cleaned_df2.csv'\n",
    "df_volcano = load_csv(file_name)\n",
    "df_volcano"
   ]
  },
  {
   "cell_type": "markdown",
   "id": "ac0dbb09",
   "metadata": {},
   "source": [
    "### Transfer string to numeric:"
   ]
  },
  {
   "cell_type": "markdown",
   "id": "76289179",
   "metadata": {},
   "source": [
    "##### The transfer_str_to_numeric_vals function converts string values in a dataset to numeric values by creating a copy of the dataset and assigning unique numeric values to each string category in each column. \n",
    "##### It replaces the string values with their corresponding numeric values and returns the modified dataset."
   ]
  },
  {
   "cell_type": "code",
   "execution_count": 9,
   "id": "ba606abc",
   "metadata": {},
   "outputs": [],
   "source": [
    "def transfer_str_to_numeric_vals(dataset):\n",
    "    df_new = dataset.copy()\n",
    "    cols = dataset.columns\n",
    "    for col in cols:\n",
    "        labels = df_new[col].astype('category').cat.categories.to_list()\n",
    "        replace_map = {col:{x:y for x,y in zip(labels, list(range(1, len(labels)+1)))}}\n",
    "        df_new.replace(replace_map, inplace=True)\n",
    "    return df_new"
   ]
  },
  {
   "cell_type": "code",
   "execution_count": 17,
   "id": "7b46db6e",
   "metadata": {},
   "outputs": [],
   "source": [
    "dataset = df_volcano[['Volcano name', 'Volcano number', 'Volcano country', 'Volcano region']]\n",
    "dataset2 = transfer_str_to_numeric_vals(dataset)"
   ]
  },
  {
   "cell_type": "code",
   "execution_count": 16,
   "id": "9b155aef",
   "metadata": {},
   "outputs": [],
   "source": [
    "dataset3 = df_volcano[['Volcano type', 'Summit elevation', 'VEI', 'Start date', \n",
    "                       'Currently erupting (Y/N)', 'Latitude:', 'Longitude:']]"
   ]
  },
  {
   "cell_type": "code",
   "execution_count": 102,
   "id": "a141f528",
   "metadata": {},
   "outputs": [],
   "source": [
    "## combine dataframes \n",
    "combined_df = pd.concat([dataset2, dataset3], axis=1)"
   ]
  },
  {
   "cell_type": "markdown",
   "id": "6ed52602",
   "metadata": {},
   "source": [
    "### Min-Max Normalization:"
   ]
  },
  {
   "cell_type": "markdown",
   "id": "9094fa58",
   "metadata": {},
   "source": [
    "##### The function normalize_column takes a DataFrame and a column name as input.¶\n",
    "##### It calculates the minimum and maximum values of the specified column in the DataFrame and returns a normalized version of the column by subtracting the minimum value and dividing by the range (max-min).\n",
    "##### This function helps in scaling the values of a column between 0 and 1."
   ]
  },
  {
   "cell_type": "code",
   "execution_count": 22,
   "id": "31f727cf",
   "metadata": {},
   "outputs": [],
   "source": [
    "def normalize_column(df, col):\n",
    "    min_val = df[col].min()\n",
    "    max_val = df[col].max()\n",
    "    return (df[col] - min_val) / (max_val - min_val)"
   ]
  },
  {
   "cell_type": "code",
   "execution_count": 26,
   "id": "c114e922",
   "metadata": {},
   "outputs": [],
   "source": [
    "combined_df['Summit elevation'] = normalize_column(combined_df, 'Summit elevation')"
   ]
  },
  {
   "cell_type": "code",
   "execution_count": 27,
   "id": "36aace31",
   "metadata": {},
   "outputs": [
    {
     "data": {
      "text/html": [
       "<div>\n",
       "<style scoped>\n",
       "    .dataframe tbody tr th:only-of-type {\n",
       "        vertical-align: middle;\n",
       "    }\n",
       "\n",
       "    .dataframe tbody tr th {\n",
       "        vertical-align: top;\n",
       "    }\n",
       "\n",
       "    .dataframe thead th {\n",
       "        text-align: right;\n",
       "    }\n",
       "</style>\n",
       "<table border=\"1\" class=\"dataframe\">\n",
       "  <thead>\n",
       "    <tr style=\"text-align: right;\">\n",
       "      <th></th>\n",
       "      <th>Volcano name</th>\n",
       "      <th>Volcano number</th>\n",
       "      <th>Volcano country</th>\n",
       "      <th>Volcano region</th>\n",
       "      <th>Volcano type</th>\n",
       "      <th>Summit elevation</th>\n",
       "      <th>VEI</th>\n",
       "      <th>Start date</th>\n",
       "      <th>Currently erupting (Y/N)</th>\n",
       "      <th>Latitude:</th>\n",
       "      <th>Longitude:</th>\n",
       "    </tr>\n",
       "  </thead>\n",
       "  <tbody>\n",
       "    <tr>\n",
       "      <th>0</th>\n",
       "      <td>1</td>\n",
       "      <td>507</td>\n",
       "      <td>32</td>\n",
       "      <td>38</td>\n",
       "      <td>14</td>\n",
       "      <td>0.747417</td>\n",
       "      <td>1</td>\n",
       "      <td>0.996259</td>\n",
       "      <td>0</td>\n",
       "      <td>14.501</td>\n",
       "      <td>-90.876</td>\n",
       "    </tr>\n",
       "    <tr>\n",
       "      <th>1</th>\n",
       "      <td>1</td>\n",
       "      <td>507</td>\n",
       "      <td>32</td>\n",
       "      <td>38</td>\n",
       "      <td>14</td>\n",
       "      <td>0.747417</td>\n",
       "      <td>2</td>\n",
       "      <td>0.992818</td>\n",
       "      <td>0</td>\n",
       "      <td>14.501</td>\n",
       "      <td>-90.876</td>\n",
       "    </tr>\n",
       "    <tr>\n",
       "      <th>2</th>\n",
       "      <td>1</td>\n",
       "      <td>507</td>\n",
       "      <td>32</td>\n",
       "      <td>38</td>\n",
       "      <td>14</td>\n",
       "      <td>0.747417</td>\n",
       "      <td>3</td>\n",
       "      <td>0.992669</td>\n",
       "      <td>0</td>\n",
       "      <td>14.501</td>\n",
       "      <td>-90.876</td>\n",
       "    </tr>\n",
       "    <tr>\n",
       "      <th>3</th>\n",
       "      <td>2</td>\n",
       "      <td>442</td>\n",
       "      <td>68</td>\n",
       "      <td>92</td>\n",
       "      <td>14</td>\n",
       "      <td>0.726026</td>\n",
       "      <td>2</td>\n",
       "      <td>0.919802</td>\n",
       "      <td>0</td>\n",
       "      <td>46.206</td>\n",
       "      <td>-121.490</td>\n",
       "    </tr>\n",
       "    <tr>\n",
       "      <th>4</th>\n",
       "      <td>2</td>\n",
       "      <td>442</td>\n",
       "      <td>68</td>\n",
       "      <td>92</td>\n",
       "      <td>14</td>\n",
       "      <td>0.726026</td>\n",
       "      <td>2</td>\n",
       "      <td>0.863694</td>\n",
       "      <td>0</td>\n",
       "      <td>46.206</td>\n",
       "      <td>-121.490</td>\n",
       "    </tr>\n",
       "    <tr>\n",
       "      <th>...</th>\n",
       "      <td>...</td>\n",
       "      <td>...</td>\n",
       "      <td>...</td>\n",
       "      <td>...</td>\n",
       "      <td>...</td>\n",
       "      <td>...</td>\n",
       "      <td>...</td>\n",
       "      <td>...</td>\n",
       "      <td>...</td>\n",
       "      <td>...</td>\n",
       "      <td>...</td>\n",
       "    </tr>\n",
       "    <tr>\n",
       "      <th>7362</th>\n",
       "      <td>680</td>\n",
       "      <td>496</td>\n",
       "      <td>41</td>\n",
       "      <td>61</td>\n",
       "      <td>19</td>\n",
       "      <td>0.703903</td>\n",
       "      <td>0</td>\n",
       "      <td>0.620558</td>\n",
       "      <td>0</td>\n",
       "      <td>19.400</td>\n",
       "      <td>-100.250</td>\n",
       "    </tr>\n",
       "    <tr>\n",
       "      <th>7363</th>\n",
       "      <td>681</td>\n",
       "      <td>16</td>\n",
       "      <td>71</td>\n",
       "      <td>4</td>\n",
       "      <td>13</td>\n",
       "      <td>0.401408</td>\n",
       "      <td>2</td>\n",
       "      <td>0.999327</td>\n",
       "      <td>0</td>\n",
       "      <td>15.050</td>\n",
       "      <td>42.180</td>\n",
       "    </tr>\n",
       "    <tr>\n",
       "      <th>7364</th>\n",
       "      <td>681</td>\n",
       "      <td>16</td>\n",
       "      <td>71</td>\n",
       "      <td>4</td>\n",
       "      <td>13</td>\n",
       "      <td>0.401408</td>\n",
       "      <td>2</td>\n",
       "      <td>0.999177</td>\n",
       "      <td>0</td>\n",
       "      <td>15.050</td>\n",
       "      <td>42.180</td>\n",
       "    </tr>\n",
       "    <tr>\n",
       "      <th>7365</th>\n",
       "      <td>681</td>\n",
       "      <td>16</td>\n",
       "      <td>71</td>\n",
       "      <td>4</td>\n",
       "      <td>13</td>\n",
       "      <td>0.401408</td>\n",
       "      <td>2</td>\n",
       "      <td>0.985187</td>\n",
       "      <td>0</td>\n",
       "      <td>15.050</td>\n",
       "      <td>42.180</td>\n",
       "    </tr>\n",
       "    <tr>\n",
       "      <th>7366</th>\n",
       "      <td>682</td>\n",
       "      <td>462</td>\n",
       "      <td>68</td>\n",
       "      <td>67</td>\n",
       "      <td>19</td>\n",
       "      <td>0.617058</td>\n",
       "      <td>0</td>\n",
       "      <td>0.761203</td>\n",
       "      <td>0</td>\n",
       "      <td>34.800</td>\n",
       "      <td>-108.000</td>\n",
       "    </tr>\n",
       "  </tbody>\n",
       "</table>\n",
       "<p>7367 rows × 11 columns</p>\n",
       "</div>"
      ],
      "text/plain": [
       "      Volcano name  Volcano number  Volcano country  Volcano region  \\\n",
       "0                1             507               32              38   \n",
       "1                1             507               32              38   \n",
       "2                1             507               32              38   \n",
       "3                2             442               68              92   \n",
       "4                2             442               68              92   \n",
       "...            ...             ...              ...             ...   \n",
       "7362           680             496               41              61   \n",
       "7363           681              16               71               4   \n",
       "7364           681              16               71               4   \n",
       "7365           681              16               71               4   \n",
       "7366           682             462               68              67   \n",
       "\n",
       "      Volcano type  Summit elevation  VEI  Start date  \\\n",
       "0               14          0.747417    1    0.996259   \n",
       "1               14          0.747417    2    0.992818   \n",
       "2               14          0.747417    3    0.992669   \n",
       "3               14          0.726026    2    0.919802   \n",
       "4               14          0.726026    2    0.863694   \n",
       "...            ...               ...  ...         ...   \n",
       "7362            19          0.703903    0    0.620558   \n",
       "7363            13          0.401408    2    0.999327   \n",
       "7364            13          0.401408    2    0.999177   \n",
       "7365            13          0.401408    2    0.985187   \n",
       "7366            19          0.617058    0    0.761203   \n",
       "\n",
       "      Currently erupting (Y/N)  Latitude:  Longitude:  \n",
       "0                            0     14.501     -90.876  \n",
       "1                            0     14.501     -90.876  \n",
       "2                            0     14.501     -90.876  \n",
       "3                            0     46.206    -121.490  \n",
       "4                            0     46.206    -121.490  \n",
       "...                        ...        ...         ...  \n",
       "7362                         0     19.400    -100.250  \n",
       "7363                         0     15.050      42.180  \n",
       "7364                         0     15.050      42.180  \n",
       "7365                         0     15.050      42.180  \n",
       "7366                         0     34.800    -108.000  \n",
       "\n",
       "[7367 rows x 11 columns]"
      ]
     },
     "execution_count": 27,
     "metadata": {},
     "output_type": "execute_result"
    }
   ],
   "source": [
    "combined_df['Start date'] = normalize_column(combined_df, 'Start date')\n",
    "combined_df"
   ]
  },
  {
   "cell_type": "markdown",
   "id": "09bfb37e",
   "metadata": {},
   "source": [
    "### Split dataset to train and test:"
   ]
  },
  {
   "cell_type": "markdown",
   "id": "905c775a",
   "metadata": {},
   "source": [
    "##### The function split_to_train_and_test is used to split a dataset into training and testing sets for machine learning. \n",
    "##### It takes the dataset, the label column name, the test ratio, and the random state as inputs. \n",
    "##### The function creates a copy of the dataset and separates the features (X) from the target variable (y). Then, it uses the train_test_split function from the scikit-learn library to split the data into X_train, X_test, y_train, and y_test based on the provided test ratio and random state.\n",
    "##### Finally, it returns the training and testing sets."
   ]
  },
  {
   "cell_type": "code",
   "execution_count": 28,
   "id": "35266ae0",
   "metadata": {},
   "outputs": [],
   "source": [
    "def split_to_train_and_test(dataset, label_column, test_ratio, rand_state):\n",
    "    df = dataset.copy()\n",
    "    X = df.drop([label_column], axis = 1)\n",
    "    y = pd.Series(df[label_column])\n",
    "    X_train, X_test, y_train, y_test = train_test_split(X, y, test_size= test_ratio, random_state= rand_state)\n",
    "    return X_train, X_test, y_train, y_test"
   ]
  },
  {
   "cell_type": "code",
   "execution_count": 34,
   "id": "2d7e92c8",
   "metadata": {},
   "outputs": [
    {
     "name": "stdout",
     "output_type": "stream",
     "text": [
      "(5893, 10) (1474, 10) (5893,) (1474,)\n"
     ]
    }
   ],
   "source": [
    "test_ratio, rand_state = 0.2, 42\n",
    "category_col_name = 'VEI'\n",
    "X_train, X_test, y_train, y_test = split_to_train_and_test(combined_df, category_col_name, test_ratio, rand_state)\n",
    "print(X_train.shape, X_test.shape, y_train.shape, y_test.shape)"
   ]
  },
  {
   "cell_type": "markdown",
   "id": "df4a1d48",
   "metadata": {},
   "source": [
    "## KNN:"
   ]
  },
  {
   "cell_type": "markdown",
   "id": "a12a9169",
   "metadata": {},
   "source": [
    "##### The machine learning model used in this code snippet is the K-Nearest Neighbors (KNN) classifier, which is evaluated and optimized based on the best mean score obtained using cross-validation.\n",
    "##### The scores evaluated for the KNN classifier in this code snippet include accuracy, precision, F1 score, and recall."
   ]
  },
  {
   "cell_type": "code",
   "execution_count": 39,
   "id": "c41b8a59",
   "metadata": {},
   "outputs": [
    {
     "name": "stdout",
     "output_type": "stream",
     "text": [
      "Best K:  5\n",
      "Best Score:  0.5847609049711202\n"
     ]
    }
   ],
   "source": [
    "k_values = range(1, 21)\n",
    "\n",
    "best_k = None\n",
    "best_score = 0\n",
    "\n",
    "for k in k_values:\n",
    "    knn = KNeighborsClassifier(n_neighbors=k)\n",
    "    scores = cross_val_score(knn, X_train, y_train, cv=5)  \n",
    "    mean_score = scores.mean()\n",
    "\n",
    "    if mean_score > best_score:\n",
    "        best_score = mean_score\n",
    "        best_k = k\n",
    "print(\"Best K: \", best_k)\n",
    "print(\"Best Score: \", best_score)"
   ]
  },
  {
   "cell_type": "code",
   "execution_count": 84,
   "id": "94211491",
   "metadata": {},
   "outputs": [
    {
     "name": "stdout",
     "output_type": "stream",
     "text": [
      "Accuracy (KNN Classifier): 0.5814111261872456\n",
      "Precision (KNN Classifier): 0.5814111261872456\n",
      "F1 Score (KNN Classifier): 0.5592083565388525\n",
      "Recall (KNN Classifier): 0.5814111261872456\n"
     ]
    }
   ],
   "source": [
    "knn = KNeighborsClassifier(n_neighbors=5)  \n",
    "knn.fit(X_train, y_train) \n",
    "\n",
    "y_pred = knn.predict(X_test)\n",
    "\n",
    "accuracy = accuracy_score(y_test, y_pred)  \n",
    "precision = precision_score(y_test, y_pred, average='micro')\n",
    "f1 = f1_score(y_test, y_pred, average='weighted')\n",
    "recall_knn = recall_score(y_test, y_pred, average='weighted')\n",
    "print(\"Accuracy (KNN Classifier):\", accuracy)\n",
    "print(\"Precision (KNN Classifier):\", precision)\n",
    "print(\"F1 Score (KNN Classifier):\", f1)\n",
    "print(\"Recall (KNN Classifier):\", recall_knn)"
   ]
  },
  {
   "cell_type": "markdown",
   "id": "feeea3c8",
   "metadata": {},
   "source": [
    "##### Confusion Matrix: visualized as a heatmap, to display the predicted versus actual values for a classification model."
   ]
  },
  {
   "cell_type": "code",
   "execution_count": 60,
   "id": "27ef2257",
   "metadata": {},
   "outputs": [
    {
     "data": {
      "image/png": "[encoded data removed]",
      "text/plain": [
       "<Figure size 500x300 with 1 Axes>"
      ]
     },
     "metadata": {},
     "output_type": "display_data"
    }
   ],
   "source": [
    "cm = confusion_matrix(y_test, y_pred)\n",
    "\n",
    "# Display heatmap\n",
    "plt.figure(figsize=(5, 3))\n",
    "sns.heatmap(cm, annot=True, cmap=\"Greens\", fmt=\"d\", cbar=False)\n",
    "plt.xlabel('Predicted')\n",
    "plt.ylabel('Actual')\n",
    "plt.title('Confusion Matrix:')\n",
    "plt.show()"
   ]
  },
  {
   "cell_type": "markdown",
   "id": "83930a2e",
   "metadata": {},
   "source": [
    "## Naive Bayes:"
   ]
  },
  {
   "cell_type": "markdown",
   "id": "f70bf33c",
   "metadata": {},
   "source": [
    "##### The code utilizes Gaussian Naive Bayes classifier to train on the dataset, predicts the target variable for the test data, and calculates the accuracy, F1 score, and recall metrics for evaluating the classifier's performance."
   ]
  },
  {
   "cell_type": "code",
   "execution_count": 103,
   "id": "221c18b3",
   "metadata": {},
   "outputs": [
    {
     "name": "stdout",
     "output_type": "stream",
     "text": [
      "Accuracy (Naive Bayes Classifier): 0.5094979647218453\n",
      "F1 Score (Naive Bayes Classifier): 0.5094979647218453\n",
      "Recall (Naive Bayes Classifier): 0.5094979647218453\n"
     ]
    }
   ],
   "source": [
    "nb = GaussianNB()\n",
    "nb.fit(X_train, y_train)\n",
    "\n",
    "y_pred = nb.predict(X_test)\n",
    "\n",
    "accuracy = accuracy_score(y_test, y_pred)\n",
    "f1 = f1_score(y_test, y_pred, average='micro')\n",
    "recall = recall_score(y_test, y_pred, average='micro')\n",
    "print(\"Accuracy (Naive Bayes Classifier):\", accuracy)\n",
    "print(\"F1 Score (Naive Bayes Classifier):\", f1)\n",
    "print(\"Recall (Naive Bayes Classifier):\", recall)"
   ]
  },
  {
   "cell_type": "markdown",
   "id": "6b96ae7b",
   "metadata": {},
   "source": [
    "## MLP:"
   ]
  },
  {
   "cell_type": "markdown",
   "id": "2d4fb3a2",
   "metadata": {},
   "source": [
    "##### The code trains a Multi-Layer Perceptron (MLP) classifier on the training data, predicts the target variable for the test data, and calculates the accuracy, F1 score, and recall for the MLP classifier."
   ]
  },
  {
   "cell_type": "code",
   "execution_count": 88,
   "id": "1f467e74",
   "metadata": {},
   "outputs": [
    {
     "name": "stdout",
     "output_type": "stream",
     "text": [
      "Accuracy (MLP Classifier): 0.5325644504748982\n",
      "F1 Score (MLP Classifier): 0.46494069255380216\n",
      "Recall (MLP Classifier): 0.5325644504748982\n"
     ]
    }
   ],
   "source": [
    "mlp = MLPClassifier(max_iter=1000)\n",
    "\n",
    "mlp.fit(X_train, y_train)\n",
    "\n",
    "y_pred = mlp.predict(X_test)\n",
    "\n",
    "accuracy = accuracy_score(y_test, y_pred)\n",
    "f1 = f1_score(y_test, y_pred, average='weighted')\n",
    "recall_mlp = recall_score(y_test, y_pred, average='weighted')\n",
    "print(\"Accuracy (MLP Classifier):\", accuracy)\n",
    "print(\"F1 Score (MLP Classifier):\", f1)\n",
    "print(\"Recall (MLP Classifier):\", recall_mlp)"
   ]
  },
  {
   "cell_type": "markdown",
   "id": "7dd0e413",
   "metadata": {},
   "source": [
    "## SVM:"
   ]
  },
  {
   "cell_type": "markdown",
   "id": "25767bb0",
   "metadata": {},
   "source": [
    "##### The code implements the Support Vector Machine (SVM) classifier, trains it on the training data, predicts the target variable for the test data, and calculates the accuracy, F1 score, and recall for the SVM classifier."
   ]
  },
  {
   "cell_type": "code",
   "execution_count": 91,
   "id": "0275c7ee",
   "metadata": {},
   "outputs": [
    {
     "name": "stdout",
     "output_type": "stream",
     "text": [
      "Accuracy (SVM Classifier): 0.5162822252374492\n",
      "F1 Score (SVM Classifier): 0.37119264146674574\n",
      "Recall (SVM Classifier): 0.5162822252374492\n"
     ]
    }
   ],
   "source": [
    "svm = SVC()\n",
    "\n",
    "svm.fit(X_train, y_train)\n",
    "\n",
    "y_pred = svm.predict(X_test)\n",
    "\n",
    "accuracy = accuracy_score(y_test, y_pred)\n",
    "f1 = f1_score(y_test, y_pred, average='weighted')\n",
    "recall_svm = recall_score(y_test, y_pred, average='weighted')\n",
    "print(\"Accuracy (SVM Classifier):\", accuracy)\n",
    "print(\"F1 Score (SVM Classifier):\", f1)\n",
    "print(\"Recall (SVM Classifier):\", recall_svm)"
   ]
  },
  {
   "cell_type": "markdown",
   "id": "a737a049",
   "metadata": {},
   "source": [
    "## Random Forest:"
   ]
  },
  {
   "cell_type": "markdown",
   "id": "36efca88",
   "metadata": {},
   "source": [
    "##### The code initializes a Random Forest Classifier with 300 estimators and bootstrap enabled. It is then trained on the training data and used to predict the target variable for the test data.\n",
    "##### It is also calculates and displays the accuracy, F1 score, and recall of the Random Forest Classifier."
   ]
  },
  {
   "cell_type": "code",
   "execution_count": 92,
   "id": "e6cae039",
   "metadata": {},
   "outputs": [
    {
     "name": "stdout",
     "output_type": "stream",
     "text": [
      "Accuracy (Random Forest Classifier): 0.5637720488466758\n",
      "F1 Score (Random Forest Classifier): 0.5602370358654141\n",
      "Recall (Random Forest Classifier): 0.5637720488466758\n"
     ]
    }
   ],
   "source": [
    "rf_classifier = RandomForestClassifier(bootstrap= True, n_estimators=300, random_state= 0)\n",
    "\n",
    "rf_classifier.fit(X_train, y_train)\n",
    "\n",
    "y_pred = rf_classifier.predict(X_test)\n",
    "\n",
    "accuracy = accuracy_score(y_test, y_pred)\n",
    "f1 = f1_score(y_test, y_pred, average='weighted')\n",
    "recall = recall_score(y_test, y_pred, average='weighted')\n",
    "print(\"Accuracy (Random Forest Classifier):\", accuracy)\n",
    "print(\"F1 Score (Random Forest Classifier):\", f1)\n",
    "print(\"Recall (Random Forest Classifier):\", recall)"
   ]
  },
  {
   "cell_type": "markdown",
   "id": "8d468bb5",
   "metadata": {},
   "source": [
    "## Logistic Regression:"
   ]
  },
  {
   "cell_type": "markdown",
   "id": "488462d8",
   "metadata": {},
   "source": [
    "##### The features in the training and test data are scaled using the StandardScaler to ensure they have zero mean and unit variance. \n",
    "##### Logistic Regression Classifier is then applied to the scaled data, and the predictions are made on the test set. \n",
    "##### The accuracy, F1 score, and recall of the Logistic Regression Classifier are computed and printed."
   ]
  },
  {
   "cell_type": "code",
   "execution_count": 101,
   "id": "c0c744bf",
   "metadata": {},
   "outputs": [
    {
     "name": "stdout",
     "output_type": "stream",
     "text": [
      "Accuracy (Logistic Regression Classifier): 0.5128900949796472\n",
      "F1 Score (Logistic Regression Classifier): 0.5128900949796472\n",
      "Recall (Logistic Regression Classifier): 0.5128900949796472\n"
     ]
    }
   ],
   "source": [
    "scaler = StandardScaler()\n",
    "X_train_scaled = scaler.fit_transform(X_train)\n",
    "X_test_scaled = scaler.transform(X_test)\n",
    "\n",
    "logreg = LogisticRegression(max_iter=1000)\n",
    "logreg.fit(X_train_scaled, y_train)\n",
    "\n",
    "y_pred = logreg.predict(X_test_scaled)\n",
    "\n",
    "accuracy = accuracy_score(y_test, y_pred)\n",
    "f1 = f1_score(y_test, y_pred, average='micro')\n",
    "recall = recall_score(y_test, y_pred, average='micro')\n",
    "print(\"Accuracy (Logistic Regression Classifier):\", accuracy)\n",
    "print(\"F1 Score (Logistic Regression Classifier):\", f1)\n",
    "print(\"Recall (Logistic Regression Classifier):\", recall)"
   ]
  }
 ],
 "metadata": {
  "kernelspec": {
   "display_name": "Python 3 (ipykernel)",
   "language": "python",
   "name": "python3"
  },
  "language_info": {
   "codemirror_mode": {
    "name": "ipython",
    "version": 3
   },
   "file_extension": ".py",
   "mimetype": "text/x-python",
   "name": "python",
   "nbconvert_exporter": "python",
   "pygments_lexer": "ipython3",
   "version": "3.9.13"
  }
 },
 "nbformat": 4,
 "nbformat_minor": 5
}
